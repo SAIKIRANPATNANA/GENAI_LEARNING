{
  "nbformat": 4,
  "nbformat_minor": 0,
  "metadata": {
    "colab": {
      "provenance": []
    },
    "kernelspec": {
      "name": "python3",
      "display_name": "Python 3"
    },
    "language_info": {
      "name": "python"
    }
  },
  "cells": [
    {
      "cell_type": "code",
      "execution_count": null,
      "metadata": {
        "id": "NyNK2Dz6l-sh"
      },
      "outputs": [],
      "source": [
        "!pip -q install google-cloud-aiplatform>=1.27.0\n",
        "!pip -q install \"shapely<=2.0.0\""
      ]
    },
    {
      "cell_type": "markdown",
      "source": [
        "# Restart the Runtime!!\n",
        "\n",
        "You have to restart the runtime after installing google-cloud-aiplatform"
      ],
      "metadata": {
        "id": "roAdcANtntuv"
      }
    },
    {
      "cell_type": "code",
      "source": [
        "from google.colab import auth as google_auth\n",
        "google_auth.authenticate_user()"
      ],
      "metadata": {
        "id": "BF1clfzHmOWt"
      },
      "execution_count": null,
      "outputs": []
    },
    {
      "cell_type": "code",
      "source": [
        "import vertexai\n",
        "from vertexai.preview.language_models import ChatModel, InputOutputTextPair"
      ],
      "metadata": {
        "id": "7Ph77AanmOar"
      },
      "execution_count": null,
      "outputs": []
    },
    {
      "cell_type": "code",
      "source": [
        "vertexai.init(project=\"put-your-project-here\", location=\"us-central1\")\n",
        "\n",
        "#setting up the chat-bison model\n",
        "chat_model = ChatModel.from_pretrained(\"chat-bison@001\")\n",
        "parameters = {\n",
        "    \"temperature\": 0.2,\n",
        "    \"max_output_tokens\": 1024,\n",
        "    \"top_p\": 0.8,\n",
        "    \"top_k\": 40\n",
        "}"
      ],
      "metadata": {
        "id": "d9KeKxBjmOd6"
      },
      "execution_count": null,
      "outputs": []
    },
    {
      "cell_type": "code",
      "source": [
        "## Setting up the Chat Context\n",
        "chat = chat_model.start_chat(\n",
        "    context=\"\"\"Cymbal Direct is an online direct-to-consumer footwear and apparel retailer headquartered in Chicago.\n",
        "\n",
        "Founded in 2008, Cymbal Direct (originally ‘Antern’) is a fair trade and B Corp certified sustainability-focused company that works with cotton farmers to reinvest in their communities. The price range for Cymbal clothes is typically between $50 and $300.\n",
        "\n",
        "In 2010, as Cymbal Group began focusing on digitally-savvy businesses that appealed to a younger demographic of shoppers, the holding company acquired Antern and renamed it Cymbal Direct. In 2019, Cymbal Direct reported an annual revenue of $7 million and employed a total of 32 employees.\n",
        "\n",
        "Cymbal Direct is a digitally native retailer.\n",
        "\n",
        "You are a personalized wiki of the company Cymbal.\"\"\",\n",
        ")\n"
      ],
      "metadata": {
        "id": "EWd93rPumKGa"
      },
      "execution_count": null,
      "outputs": []
    },
    {
      "cell_type": "code",
      "source": [
        "response = chat.send_message(\"\"\"What does Cymbal sell?\"\"\", **parameters)\n",
        "print(f\"Response from Model: {response.text}\")"
      ],
      "metadata": {
        "colab": {
          "base_uri": "https://localhost:8080/"
        },
        "id": "wROW5VQkn4Vf",
        "outputId": "50d1477b-170b-4a17-9be1-84da7048b0cf"
      },
      "execution_count": null,
      "outputs": [
        {
          "output_type": "stream",
          "name": "stdout",
          "text": [
            "Response from Model: Cymbal Direct is an online direct-to-consumer footwear and apparel retailer headquartered in Chicago.\n"
          ]
        }
      ]
    },
    {
      "cell_type": "code",
      "source": [
        "response = chat.send_message(\"\"\"When was the company founded?\"\"\", **parameters)\n",
        "print(f\"Response from Model: {response.text}\")"
      ],
      "metadata": {
        "colab": {
          "base_uri": "https://localhost:8080/"
        },
        "id": "dJkNwb6voHp5",
        "outputId": "dfb5457d-b69f-494c-a0aa-d43f15497d52"
      },
      "execution_count": null,
      "outputs": [
        {
          "output_type": "stream",
          "name": "stdout",
          "text": [
            "Response from Model: Founded in 2008, Cymbal Direct (originally ‘Antern’) is a fair trade and B Corp certified sustainability-focused company that works with cotton farmers to reinvest in their communities.\n"
          ]
        }
      ]
    },
    {
      "cell_type": "code",
      "source": [
        "response = chat.send_message(\"\"\"How much is the price of Cymbal clothes?\"\"\", **parameters)\n",
        "print(f\"Response from Model: {response.text}\")"
      ],
      "metadata": {
        "colab": {
          "base_uri": "https://localhost:8080/"
        },
        "id": "-ogQB0eWoRjS",
        "outputId": "15076e4a-67ae-4c22-bd67-a08f8ac4a449"
      },
      "execution_count": null,
      "outputs": [
        {
          "output_type": "stream",
          "name": "stdout",
          "text": [
            "Response from Model: The price range for Cymbal clothes is typically between $50 and $300.\n"
          ]
        }
      ]
    },
    {
      "cell_type": "code",
      "source": [
        "chat.message_history"
      ],
      "metadata": {
        "colab": {
          "base_uri": "https://localhost:8080/"
        },
        "id": "VcK17AQwoW2k",
        "outputId": "7b71c6df-c8fb-4fba-a23d-ad09c09a00c7"
      },
      "execution_count": null,
      "outputs": [
        {
          "output_type": "execute_result",
          "data": {
            "text/plain": [
              "[ChatMessage(content='What does Cymbal sell?', author='user'),\n",
              " ChatMessage(content='Cymbal Direct is an online direct-to-consumer footwear and apparel retailer headquartered in Chicago.', author='bot'),\n",
              " ChatMessage(content='When was the company founded?', author='user'),\n",
              " ChatMessage(content='Founded in 2008, Cymbal Direct (originally ‘Antern’) is a fair trade and B Corp certified sustainability-focused company that works with cotton farmers to reinvest in their communities.', author='bot'),\n",
              " ChatMessage(content='How much is the price of Cymbal clothes?', author='user'),\n",
              " ChatMessage(content='The price range for Cymbal clothes is typically between $50 and $300.', author='bot')]"
            ]
          },
          "metadata": {},
          "execution_count": 35
        }
      ]
    },
    {
      "cell_type": "code",
      "source": [
        "chat.MODEL_AUTHOR, chat.USER_AUTHOR"
      ],
      "metadata": {
        "colab": {
          "base_uri": "https://localhost:8080/"
        },
        "id": "iBrVJGtWosDT",
        "outputId": "671e3691-ab8f-4064-e711-48ef89182f7d"
      },
      "execution_count": null,
      "outputs": [
        {
          "output_type": "execute_result",
          "data": {
            "text/plain": [
              "('bot', 'user')"
            ]
          },
          "metadata": {},
          "execution_count": 23
        }
      ]
    },
    {
      "cell_type": "markdown",
      "source": [
        "## Generating Code with the Code model"
      ],
      "metadata": {
        "id": "TufghbvprXOr"
      }
    },
    {
      "cell_type": "code",
      "source": [
        "from vertexai.preview.language_models import CodeGenerationModel\n",
        "\n",
        "parameters = {\n",
        "    \"temperature\": 0.2,\n",
        "    \"max_output_tokens\": 1024\n",
        "}"
      ],
      "metadata": {
        "id": "Iy-RC6azrlt6"
      },
      "execution_count": null,
      "outputs": []
    },
    {
      "cell_type": "code",
      "source": [
        "model = CodeGenerationModel.from_pretrained(\"code-bison@001\")"
      ],
      "metadata": {
        "id": "txrvzMLqoz4C"
      },
      "execution_count": null,
      "outputs": []
    },
    {
      "cell_type": "code",
      "source": [
        "response = model.predict(\n",
        "    prefix = \"\"\"Write the following as a python function \\\n",
        "    \"Arjun started with 17 apples, he gave Haruka 11 Apples then Amrita gave gave Arjun 7 more apples. \\\n",
        "    How many does Arjun have now?\\\"\"\"\",\n",
        "    **parameters\n",
        ")\n",
        "print(f\"Response from Model: {response.text}\")"
      ],
      "metadata": {
        "colab": {
          "base_uri": "https://localhost:8080/"
        },
        "id": "TDnAMpqErdO7",
        "outputId": "5a05b9d7-9e99-4d80-ca2a-416382993c2e"
      },
      "execution_count": null,
      "outputs": [
        {
          "output_type": "stream",
          "name": "stdout",
          "text": [
            "Response from Model: ```python\n",
            "def get_arjun_apples():\n",
            "  \"\"\"Returns the number of apples Arjun has.\n",
            "\n",
            "  Arjun started with 17 apples, he gave Haruka 11 Apples then Amrita gave gave\n",
            "  Arjun 7 more apples.\n",
            "\n",
            "  Returns:\n",
            "    The number of apples Arjun has.\n",
            "  \"\"\"\n",
            "\n",
            "  # Arjun started with 17 apples.\n",
            "  start_apples = 17\n",
            "\n",
            "  # He gave Haruka 11 apples.\n",
            "  haruka_apples = 11\n",
            "\n",
            "  # Amrita gave him 7 more apples.\n",
            "  amrita_apples = 7\n",
            "\n",
            "  # Arjun now has start_apples - haruka_apples + amrita_apples apples.\n",
            "  return start_apples - haruka_apples + amrita_apples\n",
            "```\n"
          ]
        }
      ]
    },
    {
      "cell_type": "markdown",
      "source": [
        "## Hashtag generation with a Structured Prompt"
      ],
      "metadata": {
        "id": "lTJA3KUkr_fA"
      }
    },
    {
      "cell_type": "code",
      "source": [
        "import vertexai\n",
        "from vertexai.language_models import TextGenerationModel\n",
        "\n",
        "parameters = {\n",
        "    \"temperature\": 0.2,\n",
        "    \"max_output_tokens\": 256,\n",
        "    \"top_p\": 0.95,\n",
        "    \"top_k\": 40\n",
        "}\n",
        "model = TextGenerationModel.from_pretrained(\"text-bison@001\")\n"
      ],
      "metadata": {
        "id": "OIM7A_QHrpZ0"
      },
      "execution_count": null,
      "outputs": []
    },
    {
      "cell_type": "code",
      "source": [
        "response = model.predict(\n",
        "    \"\"\"Tokenize the hashtags of this tweet: Google Cloud\n",
        "@googlecloud\n",
        "·\n",
        "4h\n",
        "Google Cloud 🤝\n",
        "@MongoDB\n",
        ": helping startups scale quicker, more safely, and more successfully.\n",
        "\n",
        "Learn how we\\'re supporting high-potential startups via our dedicated startup programs—the Google for Startups Cloud Program and MongoDB for Startups Program ↓\n",
        "The hashtags in this tweet are: #GoogleCloud\n",
        "#googlecloud\n",
        "#MongoDB\n",
        "#mongodb\n",
        "#startups\n",
        "#startup\n",
        "#scale\n",
        "#quicker\n",
        "#moresafely\n",
        "#moresuccessfully\n",
        "#GoogleforStartupsCloudProgram\n",
        "#MongoDBforStartupsProgram#mongodb\n",
        "\n",
        "Tokenize the hashtags of this tweet: Google Cloud\n",
        "@googlecloud\n",
        "·\n",
        "10h\n",
        "Women deliver impact across Google Cloud—from keeping the internet running to driving AI innovation to transforming our customers\\' businesses.\n",
        "\n",
        "For IWD2023, check out their advice for the next generation of innovators, change-makers, and leaders ↓\n",
        "The hashtags in this tweet are: #IWD2023\n",
        "#WomenInTech\n",
        "#GoogleCloud\n",
        "\n",
        "Tokenize the hashtags of this tweet: Google Cloud\n",
        "@googlecloud\n",
        "·\n",
        "Mar 7\n",
        "The E-learning platform,\n",
        "@schooliocorp\n",
        ", started with an act of kindness, a cold DM, and a belief that schools must be reimagined for the modern world.\n",
        "\n",
        "Learn more about this women-led startup and how it reimagines e-learning with Google Cloud ↓\n",
        "The hashtags in this tweet are: #GoogleCloud\n",
        "#schooliocorp\n",
        "\n",
        "Tokenize the hashtags of this tweet: Google Cloud\n",
        "@googlecloud\n",
        "·\n",
        "Mar 6\n",
        "A good migration plan has 4️⃣ phases: assessment, planning, execution, and optimization.\n",
        "\n",
        "A great migration plan has 5️⃣ phases: discussion (i.e., join our Twitter Space on March 8), assessment, planning, execution, and optimization.\n",
        "\n",
        "Set a reminder ↓\n",
        "The hashtags in this tweet are: #googlecloud\n",
        "#migration\n",
        "#assessment\n",
        "#planning\n",
        "#execution\n",
        "#optimization\n",
        "#discussion\n",
        "#twitterspace\n",
        "#march8\n",
        "\n",
        "Tokenize the hashtags of this tweet: Google Cloud\n",
        "@googlecloud\n",
        "·\n",
        "Feb 25\n",
        "Launching in the next Video:\n",
        "- Using PaLM2 with LangChain\n",
        "- Creating a PaLM2 conversation agent\n",
        "- Using PaLM2 with tools\n",
        "\n",
        "Read more ↓\n",
        "The hashtags in this tweet are:\n",
        "\"\"\",\n",
        "    **parameters\n",
        ")\n",
        "print(f\"Response from Model: {response.text}\")"
      ],
      "metadata": {
        "colab": {
          "base_uri": "https://localhost:8080/"
        },
        "id": "ajUfghDZsMUZ",
        "outputId": "c451d035-fdf1-4f90-d818-d51a1d994108"
      },
      "execution_count": null,
      "outputs": [
        {
          "output_type": "stream",
          "name": "stdout",
          "text": [
            "Response from Model: The hashtags in this tweet are: #GoogleCloud\n",
            "#PaLM2\n",
            "#LangChain\n",
            "#PaLM2conversationagent\n",
            "#PaLM2tools\n"
          ]
        }
      ]
    },
    {
      "cell_type": "code",
      "source": [],
      "metadata": {
        "id": "YJbEP_GPsOGS"
      },
      "execution_count": null,
      "outputs": []
    }
  ]
}